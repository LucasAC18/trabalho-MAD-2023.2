{
 "cells": [
  {
   "cell_type": "markdown",
   "metadata": {},
   "source": [
    "# Trabalho 1 - Modelagem e Avaliação de Desempenho\n",
    "\n",
    "* Francisco Taam - 119150156\n",
    "* Felipe Vidal Cantor Bourbon - 119166775\n",
    "* Lucas Araujo Carvalho - 1191187632\n",
    "* Lucas Moreno Silva - 11940949\n",
    "* Pedro Ancelmo de Aquino Vieira Amaral - 119189189\n",
    "\n",
    "enunciado do trabalho [neste link](https://www.overleaf.com/read/jrykyybwrvsb)"
   ]
  },
  {
   "cell_type": "code",
   "execution_count": 189,
   "metadata": {},
   "outputs": [],
   "source": [
    "# Import helpers\n",
    "from helpers import *\n",
    "import matplotlib.pyplot as plt\n",
    "import numpy as np"
   ]
  },
  {
   "cell_type": "markdown",
   "metadata": {},
   "source": [
    "## Main code"
   ]
  },
  {
   "cell_type": "code",
   "execution_count": 190,
   "metadata": {},
   "outputs": [],
   "source": [
    "def simulate(_lambda, _mu, total_time = 10, total_rounds = 1, deterministic=False):\n",
    "  forest = []\n",
    "  finite_trees = 0\n",
    "\n",
    "  for _ in range(total_rounds):\n",
    "    event_queue = Queue()\n",
    "    tree = Tree()\n",
    "\n",
    "    # Initialize the first events\n",
    "    arrival_time = arrival_dist(_lambda)\n",
    "    departure_time = departure_dist(_mu, deterministic)\n",
    "    event_queue.push((TYPES[0], arrival_time))\n",
    "    event_queue.push((TYPES[1], departure_time))\n",
    "\n",
    "    # Main loop\n",
    "    while True:\n",
    "      event = event_queue.pop() # takes the next event from the queue\n",
    "      tree.current_time = event[1] # gets the time of the event\n",
    "\n",
    "      if tree.current_time > total_time:\n",
    "        break\n",
    "\n",
    "      if event[0] == TYPES[0]:\n",
    "        tree.arrive_client()\n",
    "        arrival_time = tree.current_time + arrival_dist(_lambda)\n",
    "        event_queue.push((TYPES[0], arrival_time))\n",
    "\n",
    "      elif event[0] == TYPES[1]:\n",
    "        tree.next_server()\n",
    "        departure_time = tree.current_time + departure_dist(_mu, deterministic)\n",
    "        event_queue.push((TYPES[1], departure_time))\n",
    "\n",
    "      if tree.current == None:\n",
    "        finite_trees += 1\n",
    "        break\n",
    "\n",
    "    forest.append(tree)\n",
    "  \n",
    "  return forest, finite_trees\n"
   ]
  },
  {
   "cell_type": "code",
   "execution_count": 191,
   "metadata": {},
   "outputs": [],
   "source": [
    "def calculate_metrics(LAMBDA, MU, TOTAL_TIME, TOTAL_ROUNDS, DETERMINISTIC):\n",
    "  forest, finite_trees = simulate(LAMBDA, MU, TOTAL_TIME, TOTAL_ROUNDS, DETERMINISTIC)\n",
    "  pdf = {}\n",
    "  mean_root_outdegree = 0\n",
    "  mean_max_outdegree = 0\n",
    "  mean_tree_height = 0\n",
    "  mean_node_height = 0\n",
    "  node_count = 0\n",
    "  mean_busy_period = 0\n",
    "  mean_num_clients = 0\n",
    "\n",
    "  # Calculating the metrics\n",
    "  for tree in forest:\n",
    "    # Add each value of tree.get_child_count() to the pdf\n",
    "    for child_count in tree.get_child_count():\n",
    "      if child_count in pdf:\n",
    "        pdf[child_count] += 1\n",
    "      else:\n",
    "        pdf[child_count] = 1\n",
    "\n",
    "    # Add the mean root outdegree\n",
    "    mean_root_outdegree += tree.get_root_outdegree()\n",
    "\n",
    "    # Add the mean max outdegree\n",
    "    mean_max_outdegree += tree.get_max_outdegree()\n",
    "\n",
    "    # Add the mean tree height\n",
    "    mean_tree_height += tree.get_height()[0]\n",
    "\n",
    "    # Add the mean node height\n",
    "    mean_node_height += sum(tree.get_height())\n",
    "    node_count += tree.num_nodes+1\n",
    "\n",
    "    # Add the mean busy period\n",
    "    mean_busy_period += tree.current_time if tree.current_time <= TOTAL_TIME else 0\n",
    "\n",
    "    # Add the number of clients\n",
    "    mean_num_clients += tree.num_nodes+1\n",
    "\n",
    "  return finite_trees, pdf, mean_root_outdegree/len(forest), mean_max_outdegree/len(forest), \\\n",
    "          mean_tree_height/len(forest), mean_node_height/node_count, mean_busy_period/len(forest), mean_num_clients/len(forest)"
   ]
  },
  {
   "cell_type": "code",
   "execution_count": 198,
   "metadata": {},
   "outputs": [
    {
     "name": "stdout",
     "output_type": "stream",
     "text": [
      "Fraction of trees that end => 1.0\n",
      "\n",
      "Mean root outdegree => 0.3\n",
      "\n",
      "Mean max outdegree => 0.3\n",
      "\n",
      "Mean tree height => 0.4\n",
      "\n",
      "Mean node height => 0.35714285714285715\n",
      "\n",
      "Mean busy period => 0.7469106392896945\n",
      "\n",
      "Mean number of clients => 1.4\n",
      "\n",
      "CDF:\n"
     ]
    },
    {
     "data": {
      "image/png": "[encoded data removed]",
      "text/plain": [
       "<Figure size 432x288 with 1 Axes>"
      ]
     },
     "metadata": {
      "needs_background": "light"
     },
     "output_type": "display_data"
    }
   ],
   "source": [
    "# Parameters\n",
    "LAMBDA = 1\n",
    "MU = 2\n",
    "TOTAL_TIME = 10\n",
    "TOTAL_ROUNDS = 10\n",
    "DETERMINISTIC = False\n",
    "\n",
    "# Calculate the metrics\n",
    "finite_trees, pdf, mean_root_outdegree, mean_max_outdegree, mean_tree_height, mean_max_tree_height, mean_busy_period, mean_num_clients = \\\n",
    "                                                                    calculate_metrics(LAMBDA, MU, TOTAL_TIME, TOTAL_ROUNDS, DETERMINISTIC)\n",
    "\n",
    "# Print the fraction of finite trees\n",
    "print(f\"Fraction of trees that end => {finite_trees / TOTAL_ROUNDS}\\n\")\n",
    "\n",
    "# Print the mean root outdegree\n",
    "print(f\"Mean root outdegree => {mean_root_outdegree}\\n\")\n",
    "\n",
    "# Print the mean max outdegree\n",
    "print(f\"Mean max outdegree => {mean_max_outdegree}\\n\")\n",
    "\n",
    "# Print the mean tree height\n",
    "print(f\"Mean tree height => {mean_tree_height}\\n\")\n",
    "\n",
    "# Print the mean node height\n",
    "print(f\"Mean node height => {mean_max_tree_height}\\n\")\n",
    "\n",
    "# Print the mean busy period\n",
    "print(f\"Mean busy period => {mean_busy_period}\\n\")\n",
    "\n",
    "# Print the mean number of clients\n",
    "print(f\"Mean number of clients => {mean_num_clients}\\n\")\n",
    "\n",
    "# Plot the cdf\n",
    "print(\"CDF:\")\n",
    "keys = range(min(pdf.keys()), max(pdf.keys())+1)\n",
    "for i in keys:\n",
    "  pdf[i] = pdf[i] if i in pdf else 0\n",
    "\n",
    "cdf = np.cumsum(list(pdf.values()))\n",
    "cdf = cdf/ max(cdf)\n",
    "plt.plot(keys, cdf)\n",
    "plt.xticks(keys)\n",
    "plt.show()"
   ]
  }
 ],
 "metadata": {
  "kernelspec": {
   "display_name": "Python 3",
   "language": "python",
   "name": "python3"
  },
  "language_info": {
   "codemirror_mode": {
    "name": "ipython",
    "version": 3
   },
   "file_extension": ".py",
   "mimetype": "text/x-python",
   "name": "python",
   "nbconvert_exporter": "python",
   "pygments_lexer": "ipython3",
   "version": "3.8.8"
  },
  "orig_nbformat": 4
 },
 "nbformat": 4,
 "nbformat_minor": 2
}
