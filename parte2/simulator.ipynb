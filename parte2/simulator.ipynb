{
 "cells": [
  {
   "cell_type": "markdown",
   "metadata": {},
   "source": [
    "# Trabalho 1 - Modelagem e Avaliação de Desempenho\n",
    "\n",
    "* Francisco Taam - 119150156\n",
    "* Felipe Vidal Cantor Bourbon - 119166775\n",
    "* Lucas Araujo Carvalho - 1191187632\n",
    "* Lucas Moreno Silva - 11940949\n",
    "* Pedro Ancelmo de Aquino Vieira Amaral - 119189189\n",
    "\n",
    "enunciado do trabalho [neste link](https://www.overleaf.com/read/jrykyybwrvsb)"
   ]
  },
  {
   "cell_type": "code",
   "execution_count": 1,
   "metadata": {},
   "outputs": [],
   "source": [
    "# Import helpers\n",
    "from helpers import *"
   ]
  },
  {
   "cell_type": "markdown",
   "metadata": {},
   "source": [
    "## Main code"
   ]
  },
  {
   "cell_type": "code",
   "execution_count": 185,
   "metadata": {},
   "outputs": [],
   "source": [
    "def simulate(_lambda, _mu, total_time = 10, total_rounds = 1):\n",
    "  forest = []\n",
    "\n",
    "  for _ in range(total_rounds):\n",
    "    event_queue = Queue()\n",
    "    tree = Tree()\n",
    "\n",
    "    # Initialize the first events\n",
    "    arrival_time = arrival_dist(_lambda)\n",
    "    departure_time = departure_dist(_mu)\n",
    "    event_queue.push((TYPES[0], arrival_time))\n",
    "    event_queue.push((TYPES[1], departure_time))\n",
    "\n",
    "    # Main loop\n",
    "    while True:\n",
    "      event = event_queue.pop() # takes the next event from the queue\n",
    "      tree.current_time = event[1] # gets the time of the event\n",
    "\n",
    "      if tree.current_time > total_time:\n",
    "        break\n",
    "\n",
    "      if event[0] == TYPES[0]:\n",
    "        tree.arrive_client()\n",
    "        arrival_time = tree.current_time + arrival_dist(_lambda)\n",
    "        event_queue.push((TYPES[0], arrival_time))\n",
    "      elif event[0] == TYPES[1]:\n",
    "        tree.next_server()\n",
    "        departure_time = tree.current_time + departure_dist(_mu)\n",
    "        event_queue.push((TYPES[1], departure_time))\n",
    "\n",
    "      if tree.current == None:\n",
    "        print(\"Tree died\\n\")\n",
    "        break\n",
    "\n",
    "    forest.append(tree)\n",
    "\n",
    "  return forest\n"
   ]
  },
  {
   "cell_type": "code",
   "execution_count": 184,
   "metadata": {},
   "outputs": [
    {
     "name": "stdout",
     "output_type": "stream",
     "text": [
      "Tree died\n",
      "\n",
      "0.07616507991386015\n"
     ]
    }
   ],
   "source": [
    "LAMBDA = 1\n",
    "MU = 2\n",
    "TOTAL_TIME = 10\n",
    "TOTAL_ROUNDS = 1\n",
    "\n",
    "forest = simulate(LAMBDA, MU, TOTAL_TIME, TOTAL_ROUNDS)\n"
   ]
  }
 ],
 "metadata": {
  "kernelspec": {
   "display_name": "Python 3",
   "language": "python",
   "name": "python3"
  },
  "language_info": {
   "codemirror_mode": {
    "name": "ipython",
    "version": 3
   },
   "file_extension": ".py",
   "mimetype": "text/x-python",
   "name": "python",
   "nbconvert_exporter": "python",
   "pygments_lexer": "ipython3",
   "version": "3.8.8"
  },
  "orig_nbformat": 4
 },
 "nbformat": 4,
 "nbformat_minor": 2
}
