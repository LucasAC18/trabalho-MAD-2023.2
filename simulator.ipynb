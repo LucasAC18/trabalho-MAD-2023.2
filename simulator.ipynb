{
 "cells": [
  {
   "cell_type": "markdown",
   "metadata": {},
   "source": [
    "# Trabalho 1 - Modelagem e Avaliação de Desempenho\n",
    "\n",
    "* Francisco Taam - 119150156\n",
    "* Felipe Vidal Cantor Bourbon - 119166775\n",
    "* Lucas Araujo Carvalho - 1191187632\n",
    "* Lucas Moreno Silva - 11940949\n",
    "* Pedro Ancelmo de Aquino Vieira Amaral - 119189189\n",
    "\n",
    "enunciado do trabalho [neste link](https://pt.overleaf.com/project/64fb5c11f463e929e852826d)"
   ]
  },
  {
   "cell_type": "markdown",
   "metadata": {},
   "source": [
    "Outros links que podem ajudar:\n",
    "\n",
    "* [Simulador de filas online](https://staff.um.edu.mt/jskl1/simweb/simmm1.html)\n",
    "\n",
    "* [Vídeo de implementação de fila M/M/1](https://www.youtube.com/watch?v=dpzf2okH_iQ)\n",
    "\n",
    "* [Vídeo sobre Lei de Little](https://www.youtube.com/watch?v=p1sG7mm1Ixo&)\n",
    "\n",
    "* [Filas M/M/1 Wikipédia](https://pt.wikipedia.org/wiki/Fila_M/M/1)\n",
    "\n",
    "* [Intervalo de confiança](https://www.youtube.com/watch?v=lIRBK9MMhrI&list=PLVRCSkl8sA_mmx1J50BCLUkhU46HPgJa2&index=11)"
   ]
  },
  {
   "cell_type": "code",
   "execution_count": 1,
   "metadata": {},
   "outputs": [],
   "source": [
    "# Imports helpers\n",
    "from helpers import *\n",
    "from bisect import bisect_right"
   ]
  },
  {
   "cell_type": "markdown",
   "metadata": {},
   "source": [
    "## Main Code"
   ]
  },
  {
   "cell_type": "code",
   "execution_count": 2,
   "metadata": {},
   "outputs": [],
   "source": [
    "# function to properly simulate the queue\n",
    "def simulate(_lambda, _mu, total_time = 10, total_rounds = 1, queue_size = -1):\n",
    "  state_time_distribution = {}\n",
    "  mean_customers_per_round = [] # mean number of customers in the system per round\n",
    "  mean_wait_time_per_round = [] # mean wait time in the system per round\n",
    "  mean_empty_state_time_per_round = [] # mean time in which the system was empty per round\n",
    "  fraction_times_hit_empty_per_round = [] # fraction of times the system hit 0 customers per round\n",
    "  probability_ruin = 0 # probability of returning to state 0\n",
    "\n",
    "  # main loop\n",
    "  for _ in range(total_rounds):\n",
    "    simulation_queue = Queue() # event queue\n",
    "    simulation_time = 0 # current time in the simulation\n",
    "    persons_counter = 0 # number of persons currently in the system\n",
    "    persons_arrived = 0 # number of persons that arrived in the system\n",
    "    times_system_empty = 0 # number of times the system hit 0 persons\n",
    "    events_counter = 0 # number of events treated\n",
    "    ruined = 0 # flag to check if the system was ruined\n",
    "\n",
    "    arrival_time = arrival_dist(_lambda) # time of the next arrival\n",
    "    service_end_time = total_time # time of the next departure\n",
    "    last_event_time = 0 # time of the last event treated\n",
    "    area_person_time = 0 # area of the number of persons in the system over time, used to calculate some metrics\n",
    "    empty_state_time = 0 # amount of time in which the system was empty\n",
    "\n",
    "    simulation_queue.push((TYPES[0], arrival_time))\n",
    "\n",
    "    while True:\n",
    "      event = simulation_queue.pop() # takes the next event from the queue\n",
    "\n",
    "      # run simulation until an event time exceeds the timeframe\n",
    "      if event[1] > total_time:\n",
    "        if persons_counter == 0:\n",
    "          empty_state_time += total_time - last_event_time\n",
    "        break\n",
    "\n",
    "      if event[0] == TYPES[0]:          # if the event is an arrival\n",
    "        simulation_time = event[1]\n",
    "        area_person_time += persons_counter * (simulation_time - last_event_time)\n",
    "        persons_counter += 1\n",
    "        persons_arrived += 1\n",
    "        arrival_time = simulation_time + arrival_dist(_lambda)\n",
    "        simulation_queue.push((TYPES[0], arrival_time))\n",
    "\n",
    "        if persons_counter == 1:  # if changed from state 0 to 1, push departure and update empty time\n",
    "          empty_state_time += simulation_time - last_event_time\n",
    "          service_end_time = simulation_time + departure_dist(_mu)\n",
    "          simulation_queue.push((TYPES[1], service_end_time))\n",
    "\n",
    "        if queue_size > 0 and persons_counter > queue_size:\n",
    "          # buffer overflow, last person that arrived leaves the system\n",
    "          persons_counter -= 1\n",
    "          persons_arrived -= 1\n",
    "          ruined = -1 if ruined == 0 else ruined\n",
    "\n",
    "      elif event[0] == TYPES[1]:       # if the event is a departure\n",
    "        simulation_time = event[1]\n",
    "        area_person_time += persons_counter * (simulation_time - last_event_time)\n",
    "        persons_counter -= 1\n",
    "\n",
    "        if persons_counter > 0: # if there are still people in the system, push next departure\n",
    "          service_end_time = simulation_time + departure_dist(_mu)\n",
    "          simulation_queue.push((TYPES[1], service_end_time))\n",
    "        else:                  # if the system became empty, update the number of times it became empty\n",
    "          ruined = 1 if ruined == 0 else ruined\n",
    "          times_system_empty += 1\n",
    "\n",
    "      # no matter which event happens, update the time spent in the state\n",
    "      time_spent_in_state = simulation_time - last_event_time\n",
    "      state_time_distribution[persons_counter] = time_spent_in_state if persons_counter not in state_time_distribution \\\n",
    "                                                                      else state_time_distribution[persons_counter] + time_spent_in_state\n",
    "      \n",
    "      last_event_time = simulation_time # after treating the event, update last event time\n",
    "      events_counter += 1 # update the number of events treated\n",
    "\n",
    "    # store the results of the round into lists\n",
    "    mean_customers_per_round.append(area_person_time/total_time)\n",
    "    mean_wait_time_per_round.append(area_person_time/persons_arrived)\n",
    "    mean_empty_state_time_per_round.append(empty_state_time/total_time)\n",
    "    fraction_times_hit_empty_per_round.append(times_system_empty/events_counter)\n",
    "    if ruined == 1:\n",
    "      probability_ruin += 1\n",
    "  \n",
    "  return Statistics(mean_customers_per_round, mean_wait_time_per_round,\n",
    "                  mean_empty_state_time_per_round, fraction_times_hit_empty_per_round, state_time_distribution, probability_ruin/total_rounds)"
   ]
  },
  {
   "cell_type": "code",
   "execution_count": 23,
   "metadata": {},
   "outputs": [
    {
     "name": "stdout",
     "output_type": "stream",
     "text": [
      "Mean customers in system    => 0.8842728963336499\n",
      "Confidence Interval         => [0.8254169393134677, 0.9431288533538321]\n",
      "\n",
      "Mean wait time in system    => 0.894593339009304\n",
      "Confidence Interval         => [0.8383955722300896, 0.9507911057885184]\n",
      "\n",
      "Mean 0 state time in system => 0.5131616156034918\n",
      "Confidence Interval         => [0.4966664013422684, 0.5296568298647153]\n",
      "\n",
      "Fraction of times 0 state   => 0.2607331752093996\n",
      "Confidence Interval         => [0.2491554286591839, 0.2723109217596153]\n",
      "\n",
      "Probability of ruin         => 1.0\n",
      "\n",
      "Analytic mean customers in system => 1.0\n",
      "Analytic mean wait time in system => 1.0\n",
      "Analytic probability of ruin => 0.967741935483871\n"
     ]
    }
   ],
   "source": [
    "LAMBDA = 1\n",
    "MU = 2\n",
    "TOTAL_TIME = 1000\n",
    "TOTAL_ROUNDS = 10\n",
    "QUEUE_SIZE = 5 # -1 for infinite queue\n",
    "\n",
    "# Run the simulation\n",
    "stats = simulate(LAMBDA, MU, TOTAL_TIME, TOTAL_ROUNDS, QUEUE_SIZE)\n",
    "\n",
    "print(stats)\n",
    "\n",
    "print(f'Analytic mean customers in system => {littles_law(LAMBDA,MU)}')\n",
    "print(f'Analytic mean wait time in system => {littles_law(LAMBDA,MU)/LAMBDA}')\n",
    "print(f'Analytic probability of ruin => {probability_ruin(LAMBDA,MU,QUEUE_SIZE)}')"
   ]
  },
  {
   "cell_type": "markdown",
   "metadata": {},
   "source": [
    "### Customer CDF"
   ]
  },
  {
   "cell_type": "code",
   "execution_count": 4,
   "metadata": {},
   "outputs": [
    {
     "data": {
      "image/png": "[encoded data removed]",
      "text/plain": [
       "<Figure size 432x288 with 1 Axes>"
      ]
     },
     "metadata": {
      "needs_background": "light"
     },
     "output_type": "display_data"
    }
   ],
   "source": [
    "plot_customer_cdf(stats.customer_cdf)"
   ]
  },
  {
   "cell_type": "markdown",
   "metadata": {},
   "source": [
    "### Wait Time CDF"
   ]
  },
  {
   "cell_type": "code",
   "execution_count": 5,
   "metadata": {},
   "outputs": [
    {
     "data": {
      "image/png": "[encoded data removed]",
      "text/plain": [
       "<Figure size 432x288 with 1 Axes>"
      ]
     },
     "metadata": {
      "needs_background": "light"
     },
     "output_type": "display_data"
    }
   ],
   "source": [
    "def simulate_cdf(_lambda, _mu, total_time=10, total_rounds=1):\n",
    "    wait_times = []\n",
    "    \n",
    "    for _ in range(total_rounds):\n",
    "        simulation_queue = Queue()\n",
    "        wait_time_queue = []  # To store wait times for each customer\n",
    "\n",
    "        simulation_time = 0\n",
    "        persons_counter = 0\n",
    "\n",
    "        arrival_time = arrival_dist(_lambda)\n",
    "        service_end_time = total_time\n",
    "\n",
    "        simulation_queue.push((\"Arrival\", arrival_time))\n",
    "\n",
    "        while True:\n",
    "            event = simulation_queue.pop()\n",
    "\n",
    "            if event[1] > total_time:\n",
    "                break\n",
    "\n",
    "            if event[0] == \"Arrival\":\n",
    "                simulation_time = event[1]\n",
    "                persons_counter += 1\n",
    "                arrival_time = simulation_time + arrival_dist(_lambda)\n",
    "                simulation_queue.push((\"Arrival\", arrival_time))\n",
    "\n",
    "                if persons_counter == 1:\n",
    "                    service_end_time = simulation_time + departure_dist(_mu)\n",
    "                    simulation_queue.push((\"Departure\", service_end_time))\n",
    "                wait_time_queue.append([simulation_time, 0])  # Arrival time, Wait time placeholder\n",
    "\n",
    "            elif event[0] == \"Departure\":\n",
    "                simulation_time = event[1]\n",
    "                persons_counter -= 1\n",
    "\n",
    "                # Calculate wait time for the departed customer\n",
    "                arrival_time_of_departed_customer, _ = wait_time_queue.pop(0)\n",
    "                wait_time = simulation_time - arrival_time_of_departed_customer\n",
    "                wait_times.append(wait_time)\n",
    "\n",
    "                if persons_counter > 0:\n",
    "                    service_end_time = simulation_time + departure_dist(_mu)\n",
    "                    simulation_queue.push((\"Departure\", service_end_time))\n",
    "\n",
    "    # Sort wait times to calculate CDF\n",
    "    sorted_wait_times = sorted(wait_times)\n",
    "    n = len(sorted_wait_times)\n",
    "    cdf_wait_times = {x: (bisect_right(sorted_wait_times, x) / n) for x in sorted_wait_times}\n",
    "    return cdf_wait_times\n",
    "\n",
    "# Run the simulation to collect wait times and calculate their CDF\n",
    "wait_time_cdf = simulate_cdf(LAMBDA, MU, TOTAL_TIME, 1)\n",
    "\n",
    "# Plotting the CDF for wait times\n",
    "plt.figure()\n",
    "plt.step(list(wait_time_cdf.keys()), list(wait_time_cdf.values()), where='post')\n",
    "plt.xlabel('Wait Time')\n",
    "plt.ylabel('CDF')\n",
    "plt.title('CDF of Wait Time in M/M/1 Queue')\n",
    "plt.grid(True)\n",
    "plt.show()\n"
   ]
  }
 ],
 "metadata": {
  "kernelspec": {
   "display_name": "Python 3",
   "language": "python",
   "name": "python3"
  },
  "language_info": {
   "codemirror_mode": {
    "name": "ipython",
    "version": 3
   },
   "file_extension": ".py",
   "mimetype": "text/x-python",
   "name": "python",
   "nbconvert_exporter": "python",
   "pygments_lexer": "ipython3",
   "version": "3.8.8"
  },
  "orig_nbformat": 4
 },
 "nbformat": 4,
 "nbformat_minor": 2
}
